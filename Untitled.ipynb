{
 "cells": [
  {
   "cell_type": "code",
   "execution_count": 3,
   "metadata": {
    "collapsed": false,
    "deletable": true,
    "editable": true
   },
   "outputs": [],
   "source": [
    "\n",
    "import json\n",
    "import pandas as pd\n",
    "import numpy as np\n",
    "from pandas.io.json import json_normalize\n",
    "#import os\n",
    "#from numpy.random import randn\n",
    "#from copy import copy\n",
    "#from update import update\n",
    "\n",
    "#dataset_filename = '/home/chandrakanth/WORK/Kaggle/roam_predcription_based_predicition.jsonl'\n",
    "#dataset_filename_1 = '/home/chandrakanth/WORK/Kaggle/roam_prescription_based_predicition_small_1.jsonl'\n",
    "#dataset_filename_2 = '/home/chandrakanth/WORK/Kaggle/roam_prescription_based_predicition_small_2.jsonl'\n",
    "#dataset_filename_10 = '/home/chandrakanth/WORK/Kaggle/roam_prescription_based_predicition_small_10.jsonl'\n",
    "#dataset_filename_c = '/home/chandrakanth/WORK/Kaggle/predBasedPres_corrected.jsonl'\n",
    "\n",
    "#ts = pd.Series(randn(10))\n",
    "#ts\n",
    "#ts=ts.fillna(0).to_sparse(fill_value=0)\n",
    "#ts"
   ]
  },
  {
   "cell_type": "code",
   "execution_count": 8,
   "metadata": {
    "collapsed": false,
    "deletable": true,
    "editable": true
   },
   "outputs": [
    {
     "data": {
      "text/plain": [
       "(50, 403)"
      ]
     },
     "execution_count": 8,
     "metadata": {},
     "output_type": "execute_result"
    }
   ],
   "source": [
    "dataset_filename ='/home/chandra/WORK/Prescription_Based_Prediction/predBasedPres_corrected_50.jsonl'\n",
    "df = pd.DataFrame()\n",
    "data = ''\n",
    "with open(dataset_filename) as json_data:\n",
    "        data = json.load(json_data)\n",
    "        df= json_normalize(data)\n",
    "json_data.close()\n",
    "df.shape"
   ]
  },
  {
   "cell_type": "code",
   "execution_count": 9,
   "metadata": {
    "collapsed": false,
    "deletable": true,
    "editable": true,
    "scrolled": true
   },
   "outputs": [
    {
     "ename": "IOError",
     "evalue": "[Errno 2] No such file or directory: '/home/chandra/WORK/Kaggle/Prescription_Based_Prediction/inputFiles1/x00.jsonl'",
     "output_type": "error",
     "traceback": [
      "\u001b[0;31m---------------------------------------------------------------------------\u001b[0m",
      "\u001b[0;31mIOError\u001b[0m                                   Traceback (most recent call last)",
      "\u001b[0;32m<ipython-input-9-a9f8f71836dd>\u001b[0m in \u001b[0;36m<module>\u001b[0;34m()\u001b[0m\n\u001b[1;32m      5\u001b[0m         \u001b[0mdataframe_collection\u001b[0m\u001b[0;34m[\u001b[0m\u001b[0mi\u001b[0m\u001b[0;34m]\u001b[0m \u001b[0;34m=\u001b[0m \u001b[0mpd\u001b[0m\u001b[0;34m.\u001b[0m\u001b[0mDataFrame\u001b[0m\u001b[0;34m(\u001b[0m\u001b[0mcolumns\u001b[0m\u001b[0;34m=\u001b[0m\u001b[0mcolumns_b\u001b[0m\u001b[0;34m)\u001b[0m\u001b[0;34m\u001b[0m\u001b[0m\n\u001b[1;32m      6\u001b[0m         \u001b[0mdata\u001b[0m \u001b[0;34m=\u001b[0m \u001b[0;34m''\u001b[0m\u001b[0;34m\u001b[0m\u001b[0m\n\u001b[0;32m----> 7\u001b[0;31m         \u001b[0;32mwith\u001b[0m \u001b[0mopen\u001b[0m\u001b[0;34m(\u001b[0m\u001b[0mdataset_filename\u001b[0m\u001b[0;34m)\u001b[0m \u001b[0;32mas\u001b[0m \u001b[0mjson_data\u001b[0m\u001b[0;34m:\u001b[0m\u001b[0;34m\u001b[0m\u001b[0m\n\u001b[0m\u001b[1;32m      8\u001b[0m                 \u001b[0mdata\u001b[0m \u001b[0;34m=\u001b[0m \u001b[0mjson\u001b[0m\u001b[0;34m.\u001b[0m\u001b[0mload\u001b[0m\u001b[0;34m(\u001b[0m\u001b[0mjson_data\u001b[0m\u001b[0;34m)\u001b[0m\u001b[0;34m\u001b[0m\u001b[0m\n\u001b[1;32m      9\u001b[0m                 \u001b[0mdataframe_collection\u001b[0m\u001b[0;34m[\u001b[0m\u001b[0mi\u001b[0m\u001b[0;34m]\u001b[0m \u001b[0;34m=\u001b[0m \u001b[0mjson_normalize\u001b[0m\u001b[0;34m(\u001b[0m\u001b[0mdata\u001b[0m\u001b[0;34m)\u001b[0m\u001b[0;34m\u001b[0m\u001b[0m\n",
      "\u001b[0;31mIOError\u001b[0m: [Errno 2] No such file or directory: '/home/chandra/WORK/Kaggle/Prescription_Based_Prediction/inputFiles1/x00.jsonl'"
     ]
    }
   ],
   "source": [
    "columns_b = ['npi','gender', 'specialty', 'region', 'settlement_type' , 'years_practicing' , 'brand_name_rx_count', 'generic_rx_count']\n",
    "dataframe_collection = {}\n",
    "for i in range(0,24):\n",
    "        dataset_filename = '/home/chandra/WORK/Kaggle/Prescription_Based_Prediction/inputFiles1/x'+\"%02d\"%i+'.jsonl'\n",
    "        dataframe_collection[i] = pd.DataFrame(columns=columns_b)\n",
    "        data = ''\n",
    "        with open(dataset_filename) as json_data:\n",
    "                data = json.load(json_data)\n",
    "                dataframe_collection[i] = json_normalize(data)\n",
    "        json_data.close()\n",
    "        \n",
    "dataframe_temp0001 = dataframe_collection[0].append(dataframe_collection[1], ignore_index = True)\n",
    "dataframe_temp0203 = dataframe_collection[2].append(dataframe_collection[3], ignore_index = True)\n",
    "dataframe_temp0405 = dataframe_collection[4].append(dataframe_collection[5], ignore_index = True)\n",
    "dataframe_temp0607 = dataframe_collection[6].append(dataframe_collection[7], ignore_index = True)\n",
    "dataframe_temp0809 = dataframe_collection[8].append(dataframe_collection[9], ignore_index = True)\n",
    "dataframe_temp1011 = dataframe_collection[10].append(dataframe_collection[11], ignore_index = True)\n",
    "dataframe_temp1213 = dataframe_collection[12].append(dataframe_collection[13], ignore_index = True)\n",
    "dataframe_temp1415 = dataframe_collection[14].append(dataframe_collection[15], ignore_index = True)\n",
    "dataframe_temp1617 = dataframe_collection[16].append(dataframe_collection[17], ignore_index = True)\n",
    "dataframe_temp1819 = dataframe_collection[18].append(dataframe_collection[19], ignore_index = True)\n",
    "dataframe_temp2021 = dataframe_collection[20].append(dataframe_collection[21], ignore_index = True)\n",
    "dataframe_temp2223 = dataframe_collection[22].append(dataframe_collection[23], ignore_index = True)  \n",
    "\n",
    "dataframe_temp0001_s = dataframe_temp0001.fillna(0).to_sparse(fill_value=0)\n",
    "dataframe_temp0203_s = dataframe_temp0203.fillna(0).to_sparse(fill_value=0)\n",
    "dataframe_temp0405_s = dataframe_temp0405.fillna(0).to_sparse(fill_value=0)\n",
    "dataframe_temp0607_s = dataframe_temp0607.fillna(0).to_sparse(fill_value=0)\n",
    "dataframe_temp0809_s = dataframe_temp0809.fillna(0).to_sparse(fill_value=0)\n",
    "dataframe_temp1011_s = dataframe_temp1011.fillna(0).to_sparse(fill_value=0)\n",
    "dataframe_temp1213_s = dataframe_temp1213.fillna(0).to_sparse(fill_value=0)\n",
    "dataframe_temp1415_s = dataframe_temp1415.fillna(0).to_sparse(fill_value=0)\n",
    "dataframe_temp1617_s = dataframe_temp1617.fillna(0).to_sparse(fill_value=0)\n",
    "dataframe_temp1819_s = dataframe_temp1819.fillna(0).to_sparse(fill_value=0)\n",
    "dataframe_temp2021_s = dataframe_temp2021.fillna(0).to_sparse(fill_value=0)\n",
    "dataframe_temp2223_s = dataframe_temp2223.fillna(0).to_sparse(fill_value=0)\n",
    "\n",
    "for ii in range(0,24):\n",
    "        del dataframe_collection[ii]\n",
    "del dataframe_temp0001\n",
    "del dataframe_temp0203\n",
    "del dataframe_temp0405\n",
    "del dataframe_temp0607\n",
    "del dataframe_temp0809\n",
    "del dataframe_temp1011\n",
    "del dataframe_temp1213\n",
    "del dataframe_temp1415\n",
    "del dataframe_temp1617\n",
    "del dataframe_temp1819\n",
    "del dataframe_temp2021\n",
    "del dataframe_temp2223\n",
    "\n",
    "\n",
    "        \n",
    "dataframe_temp00010203 = dataframe_temp0001_s.append(dataframe_temp0203_s, ignore_index = True)\n",
    "dataframe_temp04050607 = dataframe_temp0405_s.append(dataframe_temp0607_s, ignore_index = True)\n",
    "dataframe_temp08091011 = dataframe_temp0809_s.append(dataframe_temp1011_s, ignore_index = True)\n",
    "dataframe_temp12131415 = dataframe_temp1213_s.append(dataframe_temp1415_s, ignore_index = True)\n",
    "dataframe_temp16171819 = dataframe_temp1617_s.append(dataframe_temp1819_s, ignore_index = True)\n",
    "dataframe_temp20212223 = dataframe_temp2021_s.append(dataframe_temp2223_s, ignore_index = True) \n",
    "\n",
    "del dataframe_temp0001_s\n",
    "del dataframe_temp0203_s\n",
    "del dataframe_temp0405_s\n",
    "del dataframe_temp0607_s\n",
    "del dataframe_temp0809_s\n",
    "del dataframe_temp1011_s\n",
    "del dataframe_temp1213_s\n",
    "del dataframe_temp1415_s\n",
    "del dataframe_temp1617_s\n",
    "del dataframe_temp1819_s\n",
    "del dataframe_temp2021_s\n",
    "del dataframe_temp2223_s\n",
    "\n",
    "dataframe_temp00010203_s = dataframe_temp00010203.fillna(0).to_sparse(fill_value=0)\n",
    "dataframe_temp04050607_s = dataframe_temp04050607.fillna(0).to_sparse(fill_value=0)\n",
    "dataframe_temp08091011_s = dataframe_temp08091011.fillna(0).to_sparse(fill_value=0)\n",
    "dataframe_temp12131415_s = dataframe_temp12131415.fillna(0).to_sparse(fill_value=0)\n",
    "dataframe_temp16171819_s = dataframe_temp16171819.fillna(0).to_sparse(fill_value=0)\n",
    "dataframe_temp20212223_s = dataframe_temp20212223.fillna(0).to_sparse(fill_value=0)\n",
    "\n",
    "del dataframe_temp00010203\n",
    "del dataframe_temp04050607\n",
    "del dataframe_temp08091011\n",
    "del dataframe_temp12131415\n",
    "del dataframe_temp16171819\n",
    "del dataframe_temp20212223\n",
    "\n",
    "\n",
    "dataframe_temp_3_1 = dataframe_temp00010203_s.append(dataframe_temp04050607_s, ignore_index = True)\n",
    "dataframe_temp_3_2 = dataframe_temp08091011_s.append(dataframe_temp12131415_s, ignore_index = True)\n",
    "dataframe_temp_3_3 = dataframe_temp16171819_s.append(dataframe_temp20212223_s, ignore_index = True)\n",
    "\n",
    "del dataframe_temp00010203_s\n",
    "del dataframe_temp04050607_s\n",
    "del dataframe_temp08091011_s\n",
    "del dataframe_temp12131415_s\n",
    "del dataframe_temp16171819_s\n",
    "del dataframe_temp20212223_s\n",
    "\n",
    "dataframe_temp_3_1_s = dataframe_temp_3_1.fillna(0).to_sparse(fill_value=0)\n",
    "dataframe_temp_3_2_s = dataframe_temp_3_2.fillna(0).to_sparse(fill_value=0)\n",
    "dataframe_temp_3_3_s = dataframe_temp_3_3.fillna(0).to_sparse(fill_value=0)\n",
    "\n",
    "del dataframe_temp_3_1\n",
    "del dataframe_temp_3_2\n",
    "del dataframe_temp_3_3\n",
    "\n",
    "\n",
    "dataframe_temp_4_1 = dataframe_temp_3_1_s.append(dataframe_temp_3_2_s, ignore_index = True)\n",
    "dataframe_main = dataframe_temp_4_1.append(dataframe_temp_3_3_s, ignore_index = True)\n",
    "\n",
    "\n",
    "del dataframe_temp_3_1_s\n",
    "del dataframe_temp_3_2_s\n",
    "del dataframe_temp_3_3_s\n",
    "\n",
    "del dataframe_temp_4_1\n",
    "\n",
    "print dataframe_main.shape\n",
    "\n"
   ]
  },
  {
   "cell_type": "code",
   "execution_count": null,
   "metadata": {
    "collapsed": false,
    "deletable": true,
    "editable": true
   },
   "outputs": [],
   "source": [
    "dataframe_main =dataframe_main.fillna(0).to_sparse(fill_value=0)\n",
    "#list(my_dataframe.columns.values)"
   ]
  },
  {
   "cell_type": "code",
   "execution_count": null,
   "metadata": {
    "collapsed": false,
    "deletable": true,
    "editable": true
   },
   "outputs": [],
   "source": [
    "df = pd.DataFrame()\n",
    "data = pd.DataFrame({\"A\": range(3)})\n",
    "df.append(data)\n",
    "type (data)\n"
   ]
  },
  {
   "cell_type": "code",
   "execution_count": null,
   "metadata": {
    "collapsed": false,
    "deletable": true,
    "editable": true
   },
   "outputs": [],
   "source": [
    "\n",
    "#df_main.empty\n",
    "#print df_main\n",
    "\n",
    "with open(dataset_filename_2, 'rt') as f:\n",
    "    con = {}\n",
    "    columns_b = ['npi','gender', 'specialty', 'region', 'settlement_type' , 'years_practicing' , 'brand_name_rx_count', 'generic_rx_count']\n",
    "    df_main = pd.DataFrame()\n",
    "    for line in f:\n",
    "        ex = json.loads(line)\n",
    "        npi = {'npi':ex['npi']}\n",
    "        pv = ex['provider_variables']\n",
    "        cpc = ex['cms_prescription_counts']\n",
    "        \n",
    "        con = {}\n",
    "        con.update(npi)\n",
    "        con.update(pv)\n",
    "        con.update(cpc)\n",
    "\n",
    "        column_list = columns_b + list(cpc)\n",
    "        df_iter = pd.DataFrame(con, index=[1], columns=column_list)    \n",
    "        df_main.append(df_iter)\n",
    "       "
   ]
  },
  {
   "cell_type": "code",
   "execution_count": null,
   "metadata": {
    "collapsed": false,
    "deletable": true,
    "editable": true
   },
   "outputs": [],
   "source": [
    "print df_main"
   ]
  },
  {
   "cell_type": "code",
   "execution_count": null,
   "metadata": {
    "collapsed": false,
    "deletable": true,
    "editable": true
   },
   "outputs": [],
   "source": [
    "df4 = pd.DataFrame({'first':[1,1,1], 'second':[2,2,2], 'third':[3,3,3]})\n",
    "\n",
    "df5 = pd.DataFrame({'first':4, 'fourth':4, 'third':4}, index=[1])\n",
    "print df4\n",
    "print df5\n",
    "print \n",
    "print\n",
    "result = pd.concat([df4, df5], ignore_index=True)\n",
    "#result = df4.append(df5) #pd.concat([df4, df5], axis=1, join='inner')\n",
    "print result\n"
   ]
  },
  {
   "cell_type": "code",
   "execution_count": null,
   "metadata": {
    "collapsed": false,
    "deletable": true,
    "editable": true
   },
   "outputs": [],
   "source": [
    "\n",
    "\n",
    "\n",
    "\n",
    "outFile = open(dataset_filename_c, 'w+')\n",
    "with open(dataset_filename) as inFile:\n",
    "    outFile.write(\"[\")\n",
    "    for line in inFile:\n",
    "        outFile.write(line.rstrip('\\n')+\",\\n\")\n",
    "outFile.seek(-2, os.SEEK_END)\n",
    "outFile.write(']\\n')\n",
    "#outFile.truncate()\n",
    "\n",
    "#Close opend file\n",
    "inFile.close()\n",
    "outFile.close()\n",
    "\n",
    "\n"
   ]
  },
  {
   "cell_type": "code",
   "execution_count": null,
   "metadata": {
    "collapsed": false,
    "deletable": true,
    "editable": true
   },
   "outputs": [],
   "source": [
    "data = ''\n",
    "with open(dataset_filename_c) as json_data:\n",
    "    data = json.load(json_data)\n",
    "#    for item in data:\n",
    "#        print item\n",
    "\n",
    "#print(data)\n",
    "json_normalize(data)"
   ]
  },
  {
   "cell_type": "code",
   "execution_count": null,
   "metadata": {
    "collapsed": false,
    "deletable": true,
    "editable": true
   },
   "outputs": [],
   "source": [
    "#import json\n",
    "#import pandas as pd\n",
    "#import numpy as np\n",
    "#from pandas.io.json import json_normalize\n",
    "#from pandas import from_dict \n",
    "\n",
    "\n",
    "#df = pd.read_json(dataset_filename_c)\n",
    "#df.to_csv(\"predBasedPresSample.csv\")\n",
    "#print df.head()\n",
    "#type (df.provider_variables)\n",
    "#print (df[\"provider_variables\"])\n",
    "#res = json_normalize(df[\"provider_variables\"])\n",
    "#print df.npi\n",
    "#df.describe()\n",
    "#print df.head()\n",
    "#df1 = pd.DataFrame(data=df[\"provider_variables\"], columns=['provider_variables'])\n",
    "#print df1\n",
    "#df1 = pd.DataFrame({'npi' : df[\"npi\"],\n",
    "#                    'settlement_type' : ,\n",
    "#                    'generic_rx_count' : ['foo', 'foo', 'foo', 'bar', 'bar', 'bar'] * 2,\n",
    "#                    'specialty' : np.random.randn(12),\n",
    "#                    'years_practicing' : np.random.randn(12)\n",
    "#                   })\n",
    "#print df1\n",
    "\n",
    "#df2 = pd.DataFrame(pd.DataFrame.from_dict(df.provider_variables[0]))\n",
    "#df2.head()\n",
    "#df2 = pd.DataFrame( <somthing here>,\n",
    "#                   columns=['npi','settlement_type','generic_rx_count', 'specialty','years_practicing', 'gender', 'region', 'brand_name_rx_count' ] )\n",
    "#df2 = df['provider_variables'].to_frame()\n",
    "#                   columns=['provider_variables'] )\n",
    "#print df2"
   ]
  },
  {
   "cell_type": "code",
   "execution_count": null,
   "metadata": {
    "collapsed": false,
    "deletable": true,
    "editable": true
   },
   "outputs": [],
   "source": [
    "df = pd.read_json(dataset_filename_c) #Creating the main dataframe"
   ]
  },
  {
   "cell_type": "markdown",
   "metadata": {
    "deletable": true,
    "editable": true
   },
   "source": [
    "**Uniqueness of npi**\n",
    "\n",
    "</br>Check for dupliate values of \"npi\"."
   ]
  },
  {
   "cell_type": "code",
   "execution_count": null,
   "metadata": {
    "collapsed": false,
    "deletable": true,
    "editable": true
   },
   "outputs": [],
   "source": [
    "df_npi = pd.DataFrame(df[\"npi\"],columns=['npi']) \n",
    "print df_npi.columns.values"
   ]
  },
  {
   "cell_type": "code",
   "execution_count": null,
   "metadata": {
    "collapsed": false,
    "deletable": true,
    "editable": true
   },
   "outputs": [],
   "source": [
    "df_npi_dulicates= df_npi.duplicated(\"npi\",keep=False)"
   ]
  },
  {
   "cell_type": "code",
   "execution_count": null,
   "metadata": {
    "collapsed": false,
    "deletable": true,
    "editable": true
   },
   "outputs": [],
   "source": [
    "df_npi_dulicates.count()\n",
    "df_npi_dulicates"
   ]
  },
  {
   "cell_type": "code",
   "execution_count": null,
   "metadata": {
    "collapsed": false,
    "deletable": true,
    "editable": true
   },
   "outputs": [],
   "source": [
    "df_npi.describe()\n",
    "#idx = df_npi.groupby('npi')"
   ]
  },
  {
   "cell_type": "code",
   "execution_count": null,
   "metadata": {
    "collapsed": false,
    "deletable": true,
    "editable": true
   },
   "outputs": [],
   "source": [
    "import json\n",
    "import pandas as pd\n",
    "import numpy as np\n",
    "\n",
    "dataset_filename = '/home/chandrakanth/WORK/Kaggle/predBasedPresSample.jsonl'\n",
    "def iter_dataset():\n",
    "    \"\"\"Iterate through the dataset, JSON line by JSON line, yielding\n",
    "    tuples consisting of the features (dict mapping drug names to\n",
    "    counts) and the target variables (dict mapping variable names to\n",
    "    values).\"\"\"\n",
    "    with open(dataset_filename, 'rt') as f:\n",
    "        for line in f:\n",
    "            #ex = json.loads(line)\n",
    "            print \"line\"\n",
    "            #yield (ex['cms_prescription_counts'],ex['provider_variables'])\n",
    "    "
   ]
  }
 ],
 "metadata": {
  "kernelspec": {
   "display_name": "Python 2",
   "language": "python",
   "name": "python2"
  },
  "language_info": {
   "codemirror_mode": {
    "name": "ipython",
    "version": 2
   },
   "file_extension": ".py",
   "mimetype": "text/x-python",
   "name": "python",
   "nbconvert_exporter": "python",
   "pygments_lexer": "ipython2",
   "version": "2.7.12"
  }
 },
 "nbformat": 4,
 "nbformat_minor": 1
}
